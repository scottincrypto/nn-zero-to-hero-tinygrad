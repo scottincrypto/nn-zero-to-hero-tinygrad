{
 "cells": [
  {
   "cell_type": "code",
   "execution_count": 2,
   "id": "04854f6d",
   "metadata": {},
   "outputs": [],
   "source": [
    "from tinygrad import nn\n",
    "# from tinygrad.nn import functional as F\n",
    "from tinygrad import Tensor\n",
    "from random import random, normalvariate\n",
    "# import torch\n",
    "import plotly.express as px"
   ]
  },
  {
   "cell_type": "code",
   "execution_count": 34,
   "id": "1fe989a1",
   "metadata": {},
   "outputs": [
    {
     "data": {
      "text/plain": [
       "(-0.6426911354064941,\n",
       " 0.8429081439971924,\n",
       " tinygrad.tensor.Tensor,\n",
       " tinygrad.tensor.Tensor)"
      ]
     },
     "execution_count": 34,
     "metadata": {},
     "output_type": "execute_result"
    }
   ],
   "source": [
    "lin = nn.Linear(1,1, bias=True, )\n",
    "lin.weight.item(), lin.bias.item(), type(lin.weight), type(lin.bias)"
   ]
  },
  {
   "cell_type": "code",
   "execution_count": 35,
   "id": "52d11e0c",
   "metadata": {},
   "outputs": [
    {
     "data": {
      "text/plain": [
       "((100, 1), (100, 1))"
      ]
     },
     "execution_count": 35,
     "metadata": {},
     "output_type": "execute_result"
    }
   ],
   "source": [
    "xs = Tensor([[random()] for _ in range(100)])\n",
    "ys = Tensor([[0.8 * x.item() - 1.2 + normalvariate(0, 0.1)] for x in xs])\n",
    "xs.shape, ys.shape "
   ]
  },
  {
   "cell_type": "code",
   "execution_count": 12,
   "id": "f154c54a",
   "metadata": {},
   "outputs": [
    {
     "data": {
      "text/plain": [
       "array([0.62553996, 0.60522413, 0.15850532, 0.35744113, 0.0856299 ,\n",
       "       0.9495531 , 0.00255022, 0.7750188 , 0.31880516, 0.057244  ,\n",
       "       0.8341506 , 0.9001443 , 0.05972271, 0.25028566, 0.15769747,\n",
       "       0.173049  , 0.29317287, 0.55272347, 0.2886941 , 0.37032786,\n",
       "       0.77908814, 0.02323488, 0.56999046, 0.46391007, 0.5762248 ,\n",
       "       0.8015118 , 0.5364345 , 0.36116815, 0.78782004, 0.20317093,\n",
       "       0.6531797 , 0.8894271 , 0.00945895, 0.6091658 , 0.1997219 ,\n",
       "       0.27644235, 0.7180258 , 0.0558535 , 0.6885813 , 0.4657153 ,\n",
       "       0.23001824, 0.00938512, 0.51838034, 0.00932055, 0.3563668 ,\n",
       "       0.4585808 , 0.19329025, 0.38570538, 0.14130078, 0.91623837,\n",
       "       0.5086402 , 0.15775517, 0.63256204, 0.05943524, 0.05964237,\n",
       "       0.6979015 , 0.4705545 , 0.01198324, 0.5511108 , 0.4442022 ,\n",
       "       0.57928246, 0.28018868, 0.05411623, 0.8165746 , 0.96683973,\n",
       "       0.11792449, 0.02052241, 0.7889193 , 0.5235479 , 0.17051686,\n",
       "       0.68558675, 0.83179855, 0.8877764 , 0.47547626, 0.16788772,\n",
       "       0.05608891, 0.7732695 , 0.5173085 , 0.27488658, 0.68299586,\n",
       "       0.67209727, 0.81595045, 0.350138  , 0.33215117, 0.7143875 ,\n",
       "       0.9308856 , 0.0877163 , 0.25265956, 0.9078901 , 0.33730954,\n",
       "       0.42905536, 0.57659847, 0.30342793, 0.19480164, 0.42571607,\n",
       "       0.340642  , 0.05438885, 0.28199276, 0.32677203, 0.11858707],\n",
       "      dtype=float32)"
      ]
     },
     "execution_count": 12,
     "metadata": {},
     "output_type": "execute_result"
    }
   ],
   "source": [
    "xs.squeeze().numpy()"
   ]
  },
  {
   "cell_type": "code",
   "execution_count": 13,
   "id": "2010dbf4",
   "metadata": {},
   "outputs": [
    {
     "data": {
      "application/vnd.plotly.v1+json": {
       "config": {
        "plotlyServerURL": "https://plot.ly"
       },
       "data": [
        {
         "hovertemplate": "x=%{x}<br>y=%{y}<extra></extra>",
         "legendgroup": "",
         "marker": {
          "color": "#636efa",
          "size": 5,
          "symbol": "circle"
         },
         "mode": "markers",
         "name": "",
         "orientation": "v",
         "showlegend": false,
         "type": "scatter",
         "x": {
          "bdata": "YyMgP/jvGj84TyI+hgK3Prperz3pFXM/kyEnO6JnRj9uOqM+r3hqPeWKVT/bb2Y/zJ90PXElgD5yeyE+wjMxPsEalj5Jfw0/t8+TPp2bvT5Sckc/FVe+POXqET+fhe0+eIMTP+EvTT/FUwk/COu4PpOuST8KDFA+yTYnP3+xYz+4+Ro8SvIbP+aDTD7aiY0+itA3P6PGZD3dRjA/PHLuPueJaz4OxBk8k7QEPzS1GDy2dbY+GsvqPuHtRT4te8U+J7EQPpmOaj8/NgI/koohPpbvIT9fcnM9kEt0PaypMj+F7PA+WlVEPJkVDT95buM+20sUP+R0jz76qF09CAtRP8+Cdz9lgvE9nR6oPJ72ST88BwY/+ZsuPp2CLz/A8FQ/UEVjP6Bx8z7C6is+e71lPf30RT9UbgQ/772MPtHYLj+RDiw/IeJQP0pFsz64D6o+GeI2P4VObj+apLM9mFyBPnxraD/Ws6w+Ja3bPvWbEz/oWps+FXpHPnX32T6haK4+2cZePVthkD6qTqc+x93yPQ==",
          "dtype": "f4"
         },
         "xaxis": "x",
         "y": {
          "bdata": "b2ZVv55rNb9lRn6/qm9qv+6pm79UP7i+hzCwvy+zBr9ozG6/DnWSv7FzNL/BRQO/sS+Pv8vrhb/xlZK/Em5xv26NZ7+ou1G/RVFivwqRmb/y5Ci/zxKXvwuSZr9/Vj+/9k4nv40BCb/JBGa/XoBvv+bxGb/GjIm/Tfckv3GKCb+cZ6y/UjsHv4PLgL9Mr3+/NuAgv5Rwn78R0ci+yP8mv5Msnb/DKX6/9tlyv3O1rb+7+WW/wstyv/f9d781rGS/ScGZv5nrBr+/JWC/dw2Uv2CtX79xXJy/8M6Ov2GbB7+/DkW/Rkyav40VF7/FpGC/mNMcv8PEbb+mmHC/lo31vs0syr5ympS/77qYv7e/6L7ol2C/EiyLv8K7UL/Lcda+Gh8Bv1+uYr/LlIW/HcCAv5tnKr+CdTe/G1WFv3RaLr/oajO/7zcJv5krkL+CmoS/5SpXv5J2yr7G9Yi/YV9wv++DIL9ev2q/mNNIv2BbF78SC3i/xRiCv89UHr90N2i/IcCmvxEEhr/4eWW/3eSDvw==",
          "dtype": "f4"
         },
         "yaxis": "y"
        }
       ],
       "layout": {
        "legend": {
         "tracegroupgap": 0
        },
        "margin": {
         "t": 60
        },
        "template": {
         "data": {
          "bar": [
           {
            "error_x": {
             "color": "#f2f5fa"
            },
            "error_y": {
             "color": "#f2f5fa"
            },
            "marker": {
             "line": {
              "color": "rgb(17,17,17)",
              "width": 0.5
             },
             "pattern": {
              "fillmode": "overlay",
              "size": 10,
              "solidity": 0.2
             }
            },
            "type": "bar"
           }
          ],
          "barpolar": [
           {
            "marker": {
             "line": {
              "color": "rgb(17,17,17)",
              "width": 0.5
             },
             "pattern": {
              "fillmode": "overlay",
              "size": 10,
              "solidity": 0.2
             }
            },
            "type": "barpolar"
           }
          ],
          "carpet": [
           {
            "aaxis": {
             "endlinecolor": "#A2B1C6",
             "gridcolor": "#506784",
             "linecolor": "#506784",
             "minorgridcolor": "#506784",
             "startlinecolor": "#A2B1C6"
            },
            "baxis": {
             "endlinecolor": "#A2B1C6",
             "gridcolor": "#506784",
             "linecolor": "#506784",
             "minorgridcolor": "#506784",
             "startlinecolor": "#A2B1C6"
            },
            "type": "carpet"
           }
          ],
          "choropleth": [
           {
            "colorbar": {
             "outlinewidth": 0,
             "ticks": ""
            },
            "type": "choropleth"
           }
          ],
          "contour": [
           {
            "colorbar": {
             "outlinewidth": 0,
             "ticks": ""
            },
            "colorscale": [
             [
              0,
              "#0d0887"
             ],
             [
              0.1111111111111111,
              "#46039f"
             ],
             [
              0.2222222222222222,
              "#7201a8"
             ],
             [
              0.3333333333333333,
              "#9c179e"
             ],
             [
              0.4444444444444444,
              "#bd3786"
             ],
             [
              0.5555555555555556,
              "#d8576b"
             ],
             [
              0.6666666666666666,
              "#ed7953"
             ],
             [
              0.7777777777777778,
              "#fb9f3a"
             ],
             [
              0.8888888888888888,
              "#fdca26"
             ],
             [
              1,
              "#f0f921"
             ]
            ],
            "type": "contour"
           }
          ],
          "contourcarpet": [
           {
            "colorbar": {
             "outlinewidth": 0,
             "ticks": ""
            },
            "type": "contourcarpet"
           }
          ],
          "heatmap": [
           {
            "colorbar": {
             "outlinewidth": 0,
             "ticks": ""
            },
            "colorscale": [
             [
              0,
              "#0d0887"
             ],
             [
              0.1111111111111111,
              "#46039f"
             ],
             [
              0.2222222222222222,
              "#7201a8"
             ],
             [
              0.3333333333333333,
              "#9c179e"
             ],
             [
              0.4444444444444444,
              "#bd3786"
             ],
             [
              0.5555555555555556,
              "#d8576b"
             ],
             [
              0.6666666666666666,
              "#ed7953"
             ],
             [
              0.7777777777777778,
              "#fb9f3a"
             ],
             [
              0.8888888888888888,
              "#fdca26"
             ],
             [
              1,
              "#f0f921"
             ]
            ],
            "type": "heatmap"
           }
          ],
          "histogram": [
           {
            "marker": {
             "pattern": {
              "fillmode": "overlay",
              "size": 10,
              "solidity": 0.2
             }
            },
            "type": "histogram"
           }
          ],
          "histogram2d": [
           {
            "colorbar": {
             "outlinewidth": 0,
             "ticks": ""
            },
            "colorscale": [
             [
              0,
              "#0d0887"
             ],
             [
              0.1111111111111111,
              "#46039f"
             ],
             [
              0.2222222222222222,
              "#7201a8"
             ],
             [
              0.3333333333333333,
              "#9c179e"
             ],
             [
              0.4444444444444444,
              "#bd3786"
             ],
             [
              0.5555555555555556,
              "#d8576b"
             ],
             [
              0.6666666666666666,
              "#ed7953"
             ],
             [
              0.7777777777777778,
              "#fb9f3a"
             ],
             [
              0.8888888888888888,
              "#fdca26"
             ],
             [
              1,
              "#f0f921"
             ]
            ],
            "type": "histogram2d"
           }
          ],
          "histogram2dcontour": [
           {
            "colorbar": {
             "outlinewidth": 0,
             "ticks": ""
            },
            "colorscale": [
             [
              0,
              "#0d0887"
             ],
             [
              0.1111111111111111,
              "#46039f"
             ],
             [
              0.2222222222222222,
              "#7201a8"
             ],
             [
              0.3333333333333333,
              "#9c179e"
             ],
             [
              0.4444444444444444,
              "#bd3786"
             ],
             [
              0.5555555555555556,
              "#d8576b"
             ],
             [
              0.6666666666666666,
              "#ed7953"
             ],
             [
              0.7777777777777778,
              "#fb9f3a"
             ],
             [
              0.8888888888888888,
              "#fdca26"
             ],
             [
              1,
              "#f0f921"
             ]
            ],
            "type": "histogram2dcontour"
           }
          ],
          "mesh3d": [
           {
            "colorbar": {
             "outlinewidth": 0,
             "ticks": ""
            },
            "type": "mesh3d"
           }
          ],
          "parcoords": [
           {
            "line": {
             "colorbar": {
              "outlinewidth": 0,
              "ticks": ""
             }
            },
            "type": "parcoords"
           }
          ],
          "pie": [
           {
            "automargin": true,
            "type": "pie"
           }
          ],
          "scatter": [
           {
            "marker": {
             "line": {
              "color": "#283442"
             }
            },
            "type": "scatter"
           }
          ],
          "scatter3d": [
           {
            "line": {
             "colorbar": {
              "outlinewidth": 0,
              "ticks": ""
             }
            },
            "marker": {
             "colorbar": {
              "outlinewidth": 0,
              "ticks": ""
             }
            },
            "type": "scatter3d"
           }
          ],
          "scattercarpet": [
           {
            "marker": {
             "colorbar": {
              "outlinewidth": 0,
              "ticks": ""
             }
            },
            "type": "scattercarpet"
           }
          ],
          "scattergeo": [
           {
            "marker": {
             "colorbar": {
              "outlinewidth": 0,
              "ticks": ""
             }
            },
            "type": "scattergeo"
           }
          ],
          "scattergl": [
           {
            "marker": {
             "line": {
              "color": "#283442"
             }
            },
            "type": "scattergl"
           }
          ],
          "scattermap": [
           {
            "marker": {
             "colorbar": {
              "outlinewidth": 0,
              "ticks": ""
             }
            },
            "type": "scattermap"
           }
          ],
          "scattermapbox": [
           {
            "marker": {
             "colorbar": {
              "outlinewidth": 0,
              "ticks": ""
             }
            },
            "type": "scattermapbox"
           }
          ],
          "scatterpolar": [
           {
            "marker": {
             "colorbar": {
              "outlinewidth": 0,
              "ticks": ""
             }
            },
            "type": "scatterpolar"
           }
          ],
          "scatterpolargl": [
           {
            "marker": {
             "colorbar": {
              "outlinewidth": 0,
              "ticks": ""
             }
            },
            "type": "scatterpolargl"
           }
          ],
          "scatterternary": [
           {
            "marker": {
             "colorbar": {
              "outlinewidth": 0,
              "ticks": ""
             }
            },
            "type": "scatterternary"
           }
          ],
          "surface": [
           {
            "colorbar": {
             "outlinewidth": 0,
             "ticks": ""
            },
            "colorscale": [
             [
              0,
              "#0d0887"
             ],
             [
              0.1111111111111111,
              "#46039f"
             ],
             [
              0.2222222222222222,
              "#7201a8"
             ],
             [
              0.3333333333333333,
              "#9c179e"
             ],
             [
              0.4444444444444444,
              "#bd3786"
             ],
             [
              0.5555555555555556,
              "#d8576b"
             ],
             [
              0.6666666666666666,
              "#ed7953"
             ],
             [
              0.7777777777777778,
              "#fb9f3a"
             ],
             [
              0.8888888888888888,
              "#fdca26"
             ],
             [
              1,
              "#f0f921"
             ]
            ],
            "type": "surface"
           }
          ],
          "table": [
           {
            "cells": {
             "fill": {
              "color": "#506784"
             },
             "line": {
              "color": "rgb(17,17,17)"
             }
            },
            "header": {
             "fill": {
              "color": "#2a3f5f"
             },
             "line": {
              "color": "rgb(17,17,17)"
             }
            },
            "type": "table"
           }
          ]
         },
         "layout": {
          "annotationdefaults": {
           "arrowcolor": "#f2f5fa",
           "arrowhead": 0,
           "arrowwidth": 1
          },
          "autotypenumbers": "strict",
          "coloraxis": {
           "colorbar": {
            "outlinewidth": 0,
            "ticks": ""
           }
          },
          "colorscale": {
           "diverging": [
            [
             0,
             "#8e0152"
            ],
            [
             0.1,
             "#c51b7d"
            ],
            [
             0.2,
             "#de77ae"
            ],
            [
             0.3,
             "#f1b6da"
            ],
            [
             0.4,
             "#fde0ef"
            ],
            [
             0.5,
             "#f7f7f7"
            ],
            [
             0.6,
             "#e6f5d0"
            ],
            [
             0.7,
             "#b8e186"
            ],
            [
             0.8,
             "#7fbc41"
            ],
            [
             0.9,
             "#4d9221"
            ],
            [
             1,
             "#276419"
            ]
           ],
           "sequential": [
            [
             0,
             "#0d0887"
            ],
            [
             0.1111111111111111,
             "#46039f"
            ],
            [
             0.2222222222222222,
             "#7201a8"
            ],
            [
             0.3333333333333333,
             "#9c179e"
            ],
            [
             0.4444444444444444,
             "#bd3786"
            ],
            [
             0.5555555555555556,
             "#d8576b"
            ],
            [
             0.6666666666666666,
             "#ed7953"
            ],
            [
             0.7777777777777778,
             "#fb9f3a"
            ],
            [
             0.8888888888888888,
             "#fdca26"
            ],
            [
             1,
             "#f0f921"
            ]
           ],
           "sequentialminus": [
            [
             0,
             "#0d0887"
            ],
            [
             0.1111111111111111,
             "#46039f"
            ],
            [
             0.2222222222222222,
             "#7201a8"
            ],
            [
             0.3333333333333333,
             "#9c179e"
            ],
            [
             0.4444444444444444,
             "#bd3786"
            ],
            [
             0.5555555555555556,
             "#d8576b"
            ],
            [
             0.6666666666666666,
             "#ed7953"
            ],
            [
             0.7777777777777778,
             "#fb9f3a"
            ],
            [
             0.8888888888888888,
             "#fdca26"
            ],
            [
             1,
             "#f0f921"
            ]
           ]
          },
          "colorway": [
           "#636efa",
           "#EF553B",
           "#00cc96",
           "#ab63fa",
           "#FFA15A",
           "#19d3f3",
           "#FF6692",
           "#B6E880",
           "#FF97FF",
           "#FECB52"
          ],
          "font": {
           "color": "#f2f5fa"
          },
          "geo": {
           "bgcolor": "rgb(17,17,17)",
           "lakecolor": "rgb(17,17,17)",
           "landcolor": "rgb(17,17,17)",
           "showlakes": true,
           "showland": true,
           "subunitcolor": "#506784"
          },
          "hoverlabel": {
           "align": "left"
          },
          "hovermode": "closest",
          "mapbox": {
           "style": "dark"
          },
          "paper_bgcolor": "rgb(17,17,17)",
          "plot_bgcolor": "rgb(17,17,17)",
          "polar": {
           "angularaxis": {
            "gridcolor": "#506784",
            "linecolor": "#506784",
            "ticks": ""
           },
           "bgcolor": "rgb(17,17,17)",
           "radialaxis": {
            "gridcolor": "#506784",
            "linecolor": "#506784",
            "ticks": ""
           }
          },
          "scene": {
           "xaxis": {
            "backgroundcolor": "rgb(17,17,17)",
            "gridcolor": "#506784",
            "gridwidth": 2,
            "linecolor": "#506784",
            "showbackground": true,
            "ticks": "",
            "zerolinecolor": "#C8D4E3"
           },
           "yaxis": {
            "backgroundcolor": "rgb(17,17,17)",
            "gridcolor": "#506784",
            "gridwidth": 2,
            "linecolor": "#506784",
            "showbackground": true,
            "ticks": "",
            "zerolinecolor": "#C8D4E3"
           },
           "zaxis": {
            "backgroundcolor": "rgb(17,17,17)",
            "gridcolor": "#506784",
            "gridwidth": 2,
            "linecolor": "#506784",
            "showbackground": true,
            "ticks": "",
            "zerolinecolor": "#C8D4E3"
           }
          },
          "shapedefaults": {
           "line": {
            "color": "#f2f5fa"
           }
          },
          "sliderdefaults": {
           "bgcolor": "#C8D4E3",
           "bordercolor": "rgb(17,17,17)",
           "borderwidth": 1,
           "tickwidth": 0
          },
          "ternary": {
           "aaxis": {
            "gridcolor": "#506784",
            "linecolor": "#506784",
            "ticks": ""
           },
           "baxis": {
            "gridcolor": "#506784",
            "linecolor": "#506784",
            "ticks": ""
           },
           "bgcolor": "rgb(17,17,17)",
           "caxis": {
            "gridcolor": "#506784",
            "linecolor": "#506784",
            "ticks": ""
           }
          },
          "title": {
           "x": 0.05
          },
          "updatemenudefaults": {
           "bgcolor": "#506784",
           "borderwidth": 0
          },
          "xaxis": {
           "automargin": true,
           "gridcolor": "#283442",
           "linecolor": "#506784",
           "ticks": "",
           "title": {
            "standoff": 15
           },
           "zerolinecolor": "#283442",
           "zerolinewidth": 2
          },
          "yaxis": {
           "automargin": true,
           "gridcolor": "#283442",
           "linecolor": "#506784",
           "ticks": "",
           "title": {
            "standoff": 15
           },
           "zerolinecolor": "#283442",
           "zerolinewidth": 2
          }
         }
        },
        "xaxis": {
         "anchor": "y",
         "domain": [
          0,
          1
         ],
         "title": {
          "text": "x"
         }
        },
        "yaxis": {
         "anchor": "x",
         "domain": [
          0,
          1
         ],
         "title": {
          "text": "y"
         }
        }
       }
      }
     },
     "metadata": {},
     "output_type": "display_data"
    }
   ],
   "source": [
    "px.scatter(x=xs.squeeze().numpy(), y=ys.squeeze().numpy(), template='plotly_dark').update_traces(marker=dict(size=5)).show()"
   ]
  },
  {
   "cell_type": "code",
   "execution_count": 16,
   "id": "ab9bbf59",
   "metadata": {},
   "outputs": [],
   "source": [
    "def mse_loss(y_pred, y_true):\n",
    "    return ((y_pred - y_true) ** 2).mean()"
   ]
  },
  {
   "cell_type": "code",
   "execution_count": null,
   "id": "a431e0ae",
   "metadata": {},
   "outputs": [
    {
     "data": {
      "text/plain": [
       "0.39855578541755676"
      ]
     },
     "execution_count": 18,
     "metadata": {},
     "output_type": "execute_result"
    }
   ],
   "source": [
    "# preds = lin(xs)\n",
    "# mse_loss(preds, ys).item()"
   ]
  },
  {
   "cell_type": "code",
   "execution_count": 36,
   "id": "008d9ffd",
   "metadata": {},
   "outputs": [
    {
     "data": {
      "text/plain": [
       "(None, None, None, None, None)"
      ]
     },
     "execution_count": 36,
     "metadata": {},
     "output_type": "execute_result"
    }
   ],
   "source": [
    "lin.weight.grad, lin.bias.grad, lin.weight.grad, lin.weight.requires_grad, lin.bias.requires_grad"
   ]
  },
  {
   "cell_type": "code",
   "execution_count": null,
   "id": "3dbfbb4d",
   "metadata": {},
   "outputs": [
    {
     "ename": "RuntimeError",
     "evalue": "failed to compute gradient for Ops.ASSIGN\n\nin UOp(Ops.ASSIGN, dtypes.float, arg=None, src=(\n  x0:=UOp(Ops.RESHAPE, dtypes.float, arg=(1, 1), src=(\n    UOp(Ops.BUFFER, dtypes.float, arg=1, src=(\n      x2:=UOp(Ops.DEVICE, dtypes.void, arg='GPU', src=()),\n      UOp(Ops.UNIQUE, dtypes.void, arg=488, src=()),)),)),\n  UOp(Ops.ADD, dtypes.float, arg=None, src=(\n     x0,\n    UOp(Ops.MUL, dtypes.float, arg=None, src=(\n      UOp(Ops.MUL, dtypes.float, arg=None, src=(\n        UOp(Ops.RESHAPE, dtypes.float, arg=(1, 1), src=(\n          UOp(Ops.CONST, dtypes.float, arg=0.1, src=(\n            x9:=UOp(Ops.VIEW, dtypes.void, arg=ShapeTracker(views=(View(shape=(), strides=(), offset=0, mask=None, contiguous=True),)), src=(\n               x2,)),)),)),\n        UOp(Ops.RESHAPE, dtypes.float, arg=(1, 1), src=(\n          UOp(Ops.REDUCE_AXIS, dtypes.float, arg=(Ops.ADD, (0,)), src=(\n            UOp(Ops.MUL, dtypes.float, arg=None, src=(\n              x13:=UOp(Ops.RESHAPE, dtypes.float, arg=(100, 1, 1), src=(\n                UOp(Ops.RESHAPE, dtypes.float,...",
     "output_type": "error",
     "traceback": [
      "\u001b[31m---------------------------------------------------------------------------\u001b[39m",
      "\u001b[31mRuntimeError\u001b[39m                              Traceback (most recent call last)",
      "\u001b[36mCell\u001b[39m\u001b[36m \u001b[39m\u001b[32mIn[47]\u001b[39m\u001b[32m, line 15\u001b[39m\n\u001b[32m     13\u001b[39m lin.weight.grad = \u001b[38;5;28;01mNone\u001b[39;00m\n\u001b[32m     14\u001b[39m lin.bias.grad = \u001b[38;5;28;01mNone\u001b[39;00m\n\u001b[32m---> \u001b[39m\u001b[32m15\u001b[39m \u001b[43mloss\u001b[49m\u001b[43m.\u001b[49m\u001b[43mbackward\u001b[49m\u001b[43m(\u001b[49m\u001b[43m)\u001b[49m\n\u001b[32m     16\u001b[39m \u001b[38;5;28mprint\u001b[39m(lin.weight.grad.item(), lin.bias.grad.item())\n\u001b[32m     18\u001b[39m lin.weight.requires_grad = \u001b[38;5;28;01mFalse\u001b[39;00m\n",
      "\u001b[36mFile \u001b[39m\u001b[32mc:\\Users\\scott\\Documents\\code\\nn-zero-to-hero-tinygrad\\.venv\\Lib\\site-packages\\tinygrad\\tensor.py:934\u001b[39m, in \u001b[36mTensor.backward\u001b[39m\u001b[34m(self, gradient)\u001b[39m\n\u001b[32m    931\u001b[39m tensors_need_grad: \u001b[38;5;28mlist\u001b[39m[Tensor] = [t \u001b[38;5;28;01mfor\u001b[39;00m tref \u001b[38;5;129;01min\u001b[39;00m all_tensors \u001b[38;5;28;01mif\u001b[39;00m (t:=tref()) \u001b[38;5;129;01mis\u001b[39;00m \u001b[38;5;129;01mnot\u001b[39;00m \u001b[38;5;28;01mNone\u001b[39;00m \u001b[38;5;129;01mand\u001b[39;00m \\\n\u001b[32m    932\u001b[39m                                    t.lazydata \u001b[38;5;129;01min\u001b[39;00m all_uops \u001b[38;5;129;01mand\u001b[39;00m t.requires_grad \u001b[38;5;129;01mand\u001b[39;00m \u001b[38;5;129;01mnot\u001b[39;00m Tensor.no_grad]\n\u001b[32m    933\u001b[39m \u001b[38;5;66;03m# clear contexts\u001b[39;00m\n\u001b[32m--> \u001b[39m\u001b[32m934\u001b[39m \u001b[38;5;28;01mfor\u001b[39;00m t,g \u001b[38;5;129;01min\u001b[39;00m \u001b[38;5;28mzip\u001b[39m(tensors_need_grad, \u001b[38;5;28;43mself\u001b[39;49m\u001b[43m.\u001b[49m\u001b[43mgradient\u001b[49m\u001b[43m(\u001b[49m\u001b[43m*\u001b[49m\u001b[43mtensors_need_grad\u001b[49m\u001b[43m,\u001b[49m\u001b[43m \u001b[49m\u001b[43mgradient\u001b[49m\u001b[43m=\u001b[49m\u001b[43mgradient\u001b[49m\u001b[43m,\u001b[49m\u001b[43m \u001b[49m\u001b[43mmaterialize_grads\u001b[49m\u001b[43m=\u001b[49m\u001b[38;5;28;43;01mTrue\u001b[39;49;00m\u001b[43m)\u001b[49m):\n\u001b[32m    935\u001b[39m   \u001b[38;5;28;01massert\u001b[39;00m g.shape == t.shape, \u001b[33mf\u001b[39m\u001b[33m\"\u001b[39m\u001b[33mgrad shape must match tensor shape, \u001b[39m\u001b[38;5;132;01m{\u001b[39;00mg.shape\u001b[38;5;132;01m!r}\u001b[39;00m\u001b[33m != \u001b[39m\u001b[38;5;132;01m{\u001b[39;00mt.shape\u001b[38;5;132;01m!r}\u001b[39;00m\u001b[33m\"\u001b[39m\n\u001b[32m    936\u001b[39m   t.grad = g \u001b[38;5;28;01mif\u001b[39;00m t.grad \u001b[38;5;129;01mis\u001b[39;00m \u001b[38;5;28;01mNone\u001b[39;00m \u001b[38;5;28;01melse\u001b[39;00m (t.grad + g)\n",
      "\u001b[36mFile \u001b[39m\u001b[32mc:\\Users\\scott\\Documents\\code\\nn-zero-to-hero-tinygrad\\.venv\\Lib\\site-packages\\tinygrad\\tensor.py:909\u001b[39m, in \u001b[36mTensor.gradient\u001b[39m\u001b[34m(self, gradient, materialize_grads, *targets)\u001b[39m\n\u001b[32m    907\u001b[39m rets = []\n\u001b[32m    908\u001b[39m target_uops = [x.lazydata \u001b[38;5;28;01mfor\u001b[39;00m x \u001b[38;5;129;01min\u001b[39;00m targets]\n\u001b[32m--> \u001b[39m\u001b[32m909\u001b[39m grads = \u001b[43mcompute_gradient\u001b[49m\u001b[43m(\u001b[49m\u001b[38;5;28;43mself\u001b[39;49m\u001b[43m.\u001b[49m\u001b[43mlazydata\u001b[49m\u001b[43m,\u001b[49m\u001b[43m \u001b[49m\u001b[43mgradient\u001b[49m\u001b[43m.\u001b[49m\u001b[43mlazydata\u001b[49m\u001b[43m,\u001b[49m\u001b[43m \u001b[49m\u001b[38;5;28;43mset\u001b[39;49m\u001b[43m(\u001b[49m\u001b[43mtarget_uops\u001b[49m\u001b[43m)\u001b[49m\u001b[43m)\u001b[49m\n\u001b[32m    910\u001b[39m ret = []\n\u001b[32m    911\u001b[39m \u001b[38;5;28;01mfor\u001b[39;00m x \u001b[38;5;129;01min\u001b[39;00m target_uops:\n",
      "\u001b[36mFile \u001b[39m\u001b[32mc:\\Users\\scott\\Documents\\code\\nn-zero-to-hero-tinygrad\\.venv\\Lib\\site-packages\\tinygrad\\gradient.py:66\u001b[39m, in \u001b[36mcompute_gradient\u001b[39m\u001b[34m(root, root_grad, targets)\u001b[39m\n\u001b[32m     64\u001b[39m \u001b[38;5;28;01mif\u001b[39;00m t0 \u001b[38;5;129;01mnot\u001b[39;00m \u001b[38;5;129;01min\u001b[39;00m grads: \u001b[38;5;28;01mcontinue\u001b[39;00m\n\u001b[32m     65\u001b[39m lgrads: \u001b[38;5;28mtuple\u001b[39m[UOp|\u001b[38;5;28;01mNone\u001b[39;00m, ...]|\u001b[38;5;28;01mNone\u001b[39;00m = cast(\u001b[38;5;28mtuple\u001b[39m[UOp, ...]|\u001b[38;5;28;01mNone\u001b[39;00m, pm_gradient.rewrite(t0, ctx=grads[t0]))\n\u001b[32m---> \u001b[39m\u001b[32m66\u001b[39m \u001b[38;5;28;01mif\u001b[39;00m lgrads \u001b[38;5;129;01mis\u001b[39;00m \u001b[38;5;28;01mNone\u001b[39;00m: \u001b[38;5;28;01mraise\u001b[39;00m \u001b[38;5;167;01mRuntimeError\u001b[39;00m(\u001b[33mf\u001b[39m\u001b[33m\"\u001b[39m\u001b[33mfailed to compute gradient for \u001b[39m\u001b[38;5;132;01m{\u001b[39;00mt0.op\u001b[38;5;132;01m}\u001b[39;00m\u001b[38;5;130;01m\\n\u001b[39;00m\u001b[38;5;130;01m\\n\u001b[39;00m\u001b[33min \u001b[39m\u001b[38;5;132;01m{\u001b[39;00m\u001b[38;5;28mstr\u001b[39m(t0)[\u001b[32m0\u001b[39m:\u001b[32m1000\u001b[39m]\u001b[38;5;132;01m}\u001b[39;00m\u001b[33m...\u001b[39m\u001b[33m\"\u001b[39m)\n\u001b[32m     67\u001b[39m \u001b[38;5;28;01massert\u001b[39;00m \u001b[38;5;28mlen\u001b[39m(lgrads) == \u001b[38;5;28mlen\u001b[39m(t0.src), \u001b[33mf\u001b[39m\u001b[33m\"\u001b[39m\u001b[33mgot \u001b[39m\u001b[38;5;132;01m{\u001b[39;00m\u001b[38;5;28mlen\u001b[39m(lgrads)\u001b[38;5;132;01m}\u001b[39;00m\u001b[33m gradient, expected \u001b[39m\u001b[38;5;132;01m{\u001b[39;00m\u001b[38;5;28mlen\u001b[39m(t0.src)\u001b[38;5;132;01m}\u001b[39;00m\u001b[33m\"\u001b[39m\n\u001b[32m     68\u001b[39m \u001b[38;5;28;01mfor\u001b[39;00m k,v \u001b[38;5;129;01min\u001b[39;00m \u001b[38;5;28mzip\u001b[39m(t0.src, lgrads):\n",
      "\u001b[31mRuntimeError\u001b[39m: failed to compute gradient for Ops.ASSIGN\n\nin UOp(Ops.ASSIGN, dtypes.float, arg=None, src=(\n  x0:=UOp(Ops.RESHAPE, dtypes.float, arg=(1, 1), src=(\n    UOp(Ops.BUFFER, dtypes.float, arg=1, src=(\n      x2:=UOp(Ops.DEVICE, dtypes.void, arg='GPU', src=()),\n      UOp(Ops.UNIQUE, dtypes.void, arg=488, src=()),)),)),\n  UOp(Ops.ADD, dtypes.float, arg=None, src=(\n     x0,\n    UOp(Ops.MUL, dtypes.float, arg=None, src=(\n      UOp(Ops.MUL, dtypes.float, arg=None, src=(\n        UOp(Ops.RESHAPE, dtypes.float, arg=(1, 1), src=(\n          UOp(Ops.CONST, dtypes.float, arg=0.1, src=(\n            x9:=UOp(Ops.VIEW, dtypes.void, arg=ShapeTracker(views=(View(shape=(), strides=(), offset=0, mask=None, contiguous=True),)), src=(\n               x2,)),)),)),\n        UOp(Ops.RESHAPE, dtypes.float, arg=(1, 1), src=(\n          UOp(Ops.REDUCE_AXIS, dtypes.float, arg=(Ops.ADD, (0,)), src=(\n            UOp(Ops.MUL, dtypes.float, arg=None, src=(\n              x13:=UOp(Ops.RESHAPE, dtypes.float, arg=(100, 1, 1), src=(\n                UOp(Ops.RESHAPE, dtypes.float,..."
     ]
    }
   ],
   "source": [
    "n_steps = 2000\n",
    "lr = 0.1\n",
    "\n",
    "lin.weight.requires_grad = True\n",
    "lin.bias.requires_grad = True\n",
    "\n",
    "for i in range (1, n_steps + 1):\n",
    "    # forward pass\n",
    "    preds = lin(xs)\n",
    "    loss = mse_loss(preds, ys)\n",
    "\n",
    "    # backpropagation\n",
    "    # lin.weight.grad = None\n",
    "    # lin.bias.grad = None\n",
    "    loss.backward()\n",
    "    print(lin.weight.grad.item(), lin.bias.grad.item())\n",
    "\n",
    "    # lin.weight.requires_grad = False\n",
    "    # lin.bias.requires_grad = False\n",
    "    # update weights and bias\n",
    "    lin.weight -= lr * lin.weight.grad\n",
    "    lin.bias -= lr * lin.bias.grad\n",
    "    # lin.weight.assign(lin.weight - lr * lin.weight.grad)\n",
    "    # lin.requires_grad = True\n",
    "\n",
    "    # break\n",
    "\n",
    "    if i == 1 or i % 100 == 0:\n",
    "        print(f\"Step {i}: loss = {loss.item():.4f}, weight = {lin.weight.item():.4f}, bias = {lin.bias.item():.4f}\")\n",
    "        # preds = [lin(Tensor([x])) for x in xs]\n",
    "        # px.scatter(x=xs, y=ys, template='plotly_dark').update_traces(marker=dict(size=5)).show()\n",
    "        # plt.scatter(xs, ys)\n",
    "        # plt.scatter(xs, preds)\n",
    "        # plt.show()"
   ]
  }
 ],
 "metadata": {
  "kernelspec": {
   "display_name": ".venv",
   "language": "python",
   "name": "python3"
  },
  "language_info": {
   "codemirror_mode": {
    "name": "ipython",
    "version": 3
   },
   "file_extension": ".py",
   "mimetype": "text/x-python",
   "name": "python",
   "nbconvert_exporter": "python",
   "pygments_lexer": "ipython3",
   "version": "3.12.9"
  }
 },
 "nbformat": 4,
 "nbformat_minor": 5
}
