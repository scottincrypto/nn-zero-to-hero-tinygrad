{
 "cells": [
  {
   "cell_type": "code",
   "execution_count": 2,
   "id": "04854f6d",
   "metadata": {},
   "outputs": [],
   "source": [
    "from tinygrad import nn\n",
    "# from tinygrad.nn import functional as F\n",
    "from tinygrad import Tensor\n",
    "from random import random, normalvariate\n",
    "# import torch\n",
    "import plotly.express as px"
   ]
  },
  {
   "cell_type": "code",
   "execution_count": 62,
   "id": "1fe989a1",
   "metadata": {},
   "outputs": [
    {
     "data": {
      "text/plain": [
       "(-0.17160725593566895,\n",
       " 0.19047021865844727,\n",
       " tinygrad.tensor.Tensor,\n",
       " tinygrad.tensor.Tensor)"
      ]
     },
     "execution_count": 62,
     "metadata": {},
     "output_type": "execute_result"
    }
   ],
   "source": [
    "lin = nn.Linear(1,1, bias=True, )\n",
    "lin.weight.item(), lin.bias.item(), type(lin.weight), type(lin.bias)"
   ]
  },
  {
   "cell_type": "code",
   "execution_count": 63,
   "id": "52d11e0c",
   "metadata": {},
   "outputs": [
    {
     "data": {
      "text/plain": [
       "((100, 1), (100, 1))"
      ]
     },
     "execution_count": 63,
     "metadata": {},
     "output_type": "execute_result"
    }
   ],
   "source": [
    "xs = Tensor([[random()] for _ in range(100)])\n",
    "ys = Tensor([[0.8 * x.item() - 1.2 + normalvariate(0, 0.1)] for x in xs])\n",
    "xs.shape, ys.shape "
   ]
  },
  {
   "cell_type": "code",
   "execution_count": 12,
   "id": "f154c54a",
   "metadata": {},
   "outputs": [
    {
     "data": {
      "text/plain": [
       "array([0.62553996, 0.60522413, 0.15850532, 0.35744113, 0.0856299 ,\n",
       "       0.9495531 , 0.00255022, 0.7750188 , 0.31880516, 0.057244  ,\n",
       "       0.8341506 , 0.9001443 , 0.05972271, 0.25028566, 0.15769747,\n",
       "       0.173049  , 0.29317287, 0.55272347, 0.2886941 , 0.37032786,\n",
       "       0.77908814, 0.02323488, 0.56999046, 0.46391007, 0.5762248 ,\n",
       "       0.8015118 , 0.5364345 , 0.36116815, 0.78782004, 0.20317093,\n",
       "       0.6531797 , 0.8894271 , 0.00945895, 0.6091658 , 0.1997219 ,\n",
       "       0.27644235, 0.7180258 , 0.0558535 , 0.6885813 , 0.4657153 ,\n",
       "       0.23001824, 0.00938512, 0.51838034, 0.00932055, 0.3563668 ,\n",
       "       0.4585808 , 0.19329025, 0.38570538, 0.14130078, 0.91623837,\n",
       "       0.5086402 , 0.15775517, 0.63256204, 0.05943524, 0.05964237,\n",
       "       0.6979015 , 0.4705545 , 0.01198324, 0.5511108 , 0.4442022 ,\n",
       "       0.57928246, 0.28018868, 0.05411623, 0.8165746 , 0.96683973,\n",
       "       0.11792449, 0.02052241, 0.7889193 , 0.5235479 , 0.17051686,\n",
       "       0.68558675, 0.83179855, 0.8877764 , 0.47547626, 0.16788772,\n",
       "       0.05608891, 0.7732695 , 0.5173085 , 0.27488658, 0.68299586,\n",
       "       0.67209727, 0.81595045, 0.350138  , 0.33215117, 0.7143875 ,\n",
       "       0.9308856 , 0.0877163 , 0.25265956, 0.9078901 , 0.33730954,\n",
       "       0.42905536, 0.57659847, 0.30342793, 0.19480164, 0.42571607,\n",
       "       0.340642  , 0.05438885, 0.28199276, 0.32677203, 0.11858707],\n",
       "      dtype=float32)"
      ]
     },
     "execution_count": 12,
     "metadata": {},
     "output_type": "execute_result"
    }
   ],
   "source": [
    "xs.squeeze().numpy()"
   ]
  },
  {
   "cell_type": "code",
   "execution_count": 64,
   "id": "2010dbf4",
   "metadata": {},
   "outputs": [
    {
     "data": {
      "application/vnd.plotly.v1+json": {
       "config": {
        "plotlyServerURL": "https://plot.ly"
       },
       "data": [
        {
         "hovertemplate": "x=%{x}<br>y=%{y}<extra></extra>",
         "legendgroup": "",
         "marker": {
          "color": "#636efa",
          "size": 5,
          "symbol": "circle"
         },
         "mode": "markers",
         "name": "",
         "orientation": "v",
         "showlegend": false,
         "type": "scatter",
         "x": {
          "bdata": "aKSNPsPkPz/ij4g+SIA1P2ilBD8BUkk/AHK7PlDr6j4BXDY/7bS5Pj21RD+njLo943OkPs2fHz/E+SI/qLVUPyV0Oz/P01s+1zdUP0bptT0+/jg/Kp5TP6uqfj+66V8+fP8nP+LZ7D7lhHg/HL4uP0JBHz4f9GY/pvs6PQQpFz+kHy4/fifZPqDV4z5t+no+OYiNPs4BMDv0V/g+eiB2P4I7tz3pzVQ+9RzUPjg41z7tB5E9nzzjPqleRj+aSGQ/Q0I4P+HBez8tP2o/UkAsP2rk7jx/N0A/W/wnP0GFfz8HBeo+zkiEPn+pID0reiM/dGeXPdt9Qj83Syg/0lJ5P44nUz8fX50+T4aQPkoyoT67/Yk+00UOPzS7nT0LS3c/eChrPzIpBD9Sx5I+RF97PxqIQD+85ho/DVAbPw548j2EgBE/mLcEP32lLj5SKjw/4gUFPEmIMT+WKO09OekcPiDfAz+EDAo9r+WBPWWgxj7xjqc+KmFbP6YeSj/idBY/jFu0PlAw4T4H7pY9OCpXPw==",
          "dtype": "f4"
         },
         "xaxis": "x",
         "y": {
          "bdata": "rYWIvxcVNr8sooS/HC4FvyQWU7+CpCi/BEduv3h/bb9wkP2+QL9zv8tuGL/mHoe/cX9zv4pGV79lElK/MAAgvw0EIr+twYS/rvoYv/TDmr+PfSK/gW3MvqeGw76tQoq/Bewdv/19RL8S18u+j70zvwa5l780HMi+rgajv5YKEb+B9yi/tqNYv75mRb8Hu3S/YE9sv9k2mL9R0E2/exmRvqFElL95LoK/TdZnv+8oNr9j+oW/aw5tv59rCL9QfsS+UTzuvs0FkL4mtAa/PdwGv/uyob+/z/K+soQcv4erb754Tly/ust7v4uzmL98VkC/L/eDv6jMWr+WYh+/sQaIvoDYNb/fJXe/7xp6v5Jmdr9eFG+/OtExv2ggjr8FCA2/Y5Esv8kbQr9lcIa/g2qrvq+5Gb/XSiO/GPU2v72zob/goD6/i+tWv943gb8Thwi/PU6Uv+29K792O42/wEBvvxfnPb90tJa/ijqsv+wlSr+lTW2/XJovv1/lJr8RQ0+/75ZAv7C+dL8iGZi/K1sGvw==",
          "dtype": "f4"
         },
         "yaxis": "y"
        }
       ],
       "layout": {
        "legend": {
         "tracegroupgap": 0
        },
        "margin": {
         "t": 60
        },
        "template": {
         "data": {
          "bar": [
           {
            "error_x": {
             "color": "#f2f5fa"
            },
            "error_y": {
             "color": "#f2f5fa"
            },
            "marker": {
             "line": {
              "color": "rgb(17,17,17)",
              "width": 0.5
             },
             "pattern": {
              "fillmode": "overlay",
              "size": 10,
              "solidity": 0.2
             }
            },
            "type": "bar"
           }
          ],
          "barpolar": [
           {
            "marker": {
             "line": {
              "color": "rgb(17,17,17)",
              "width": 0.5
             },
             "pattern": {
              "fillmode": "overlay",
              "size": 10,
              "solidity": 0.2
             }
            },
            "type": "barpolar"
           }
          ],
          "carpet": [
           {
            "aaxis": {
             "endlinecolor": "#A2B1C6",
             "gridcolor": "#506784",
             "linecolor": "#506784",
             "minorgridcolor": "#506784",
             "startlinecolor": "#A2B1C6"
            },
            "baxis": {
             "endlinecolor": "#A2B1C6",
             "gridcolor": "#506784",
             "linecolor": "#506784",
             "minorgridcolor": "#506784",
             "startlinecolor": "#A2B1C6"
            },
            "type": "carpet"
           }
          ],
          "choropleth": [
           {
            "colorbar": {
             "outlinewidth": 0,
             "ticks": ""
            },
            "type": "choropleth"
           }
          ],
          "contour": [
           {
            "colorbar": {
             "outlinewidth": 0,
             "ticks": ""
            },
            "colorscale": [
             [
              0,
              "#0d0887"
             ],
             [
              0.1111111111111111,
              "#46039f"
             ],
             [
              0.2222222222222222,
              "#7201a8"
             ],
             [
              0.3333333333333333,
              "#9c179e"
             ],
             [
              0.4444444444444444,
              "#bd3786"
             ],
             [
              0.5555555555555556,
              "#d8576b"
             ],
             [
              0.6666666666666666,
              "#ed7953"
             ],
             [
              0.7777777777777778,
              "#fb9f3a"
             ],
             [
              0.8888888888888888,
              "#fdca26"
             ],
             [
              1,
              "#f0f921"
             ]
            ],
            "type": "contour"
           }
          ],
          "contourcarpet": [
           {
            "colorbar": {
             "outlinewidth": 0,
             "ticks": ""
            },
            "type": "contourcarpet"
           }
          ],
          "heatmap": [
           {
            "colorbar": {
             "outlinewidth": 0,
             "ticks": ""
            },
            "colorscale": [
             [
              0,
              "#0d0887"
             ],
             [
              0.1111111111111111,
              "#46039f"
             ],
             [
              0.2222222222222222,
              "#7201a8"
             ],
             [
              0.3333333333333333,
              "#9c179e"
             ],
             [
              0.4444444444444444,
              "#bd3786"
             ],
             [
              0.5555555555555556,
              "#d8576b"
             ],
             [
              0.6666666666666666,
              "#ed7953"
             ],
             [
              0.7777777777777778,
              "#fb9f3a"
             ],
             [
              0.8888888888888888,
              "#fdca26"
             ],
             [
              1,
              "#f0f921"
             ]
            ],
            "type": "heatmap"
           }
          ],
          "histogram": [
           {
            "marker": {
             "pattern": {
              "fillmode": "overlay",
              "size": 10,
              "solidity": 0.2
             }
            },
            "type": "histogram"
           }
          ],
          "histogram2d": [
           {
            "colorbar": {
             "outlinewidth": 0,
             "ticks": ""
            },
            "colorscale": [
             [
              0,
              "#0d0887"
             ],
             [
              0.1111111111111111,
              "#46039f"
             ],
             [
              0.2222222222222222,
              "#7201a8"
             ],
             [
              0.3333333333333333,
              "#9c179e"
             ],
             [
              0.4444444444444444,
              "#bd3786"
             ],
             [
              0.5555555555555556,
              "#d8576b"
             ],
             [
              0.6666666666666666,
              "#ed7953"
             ],
             [
              0.7777777777777778,
              "#fb9f3a"
             ],
             [
              0.8888888888888888,
              "#fdca26"
             ],
             [
              1,
              "#f0f921"
             ]
            ],
            "type": "histogram2d"
           }
          ],
          "histogram2dcontour": [
           {
            "colorbar": {
             "outlinewidth": 0,
             "ticks": ""
            },
            "colorscale": [
             [
              0,
              "#0d0887"
             ],
             [
              0.1111111111111111,
              "#46039f"
             ],
             [
              0.2222222222222222,
              "#7201a8"
             ],
             [
              0.3333333333333333,
              "#9c179e"
             ],
             [
              0.4444444444444444,
              "#bd3786"
             ],
             [
              0.5555555555555556,
              "#d8576b"
             ],
             [
              0.6666666666666666,
              "#ed7953"
             ],
             [
              0.7777777777777778,
              "#fb9f3a"
             ],
             [
              0.8888888888888888,
              "#fdca26"
             ],
             [
              1,
              "#f0f921"
             ]
            ],
            "type": "histogram2dcontour"
           }
          ],
          "mesh3d": [
           {
            "colorbar": {
             "outlinewidth": 0,
             "ticks": ""
            },
            "type": "mesh3d"
           }
          ],
          "parcoords": [
           {
            "line": {
             "colorbar": {
              "outlinewidth": 0,
              "ticks": ""
             }
            },
            "type": "parcoords"
           }
          ],
          "pie": [
           {
            "automargin": true,
            "type": "pie"
           }
          ],
          "scatter": [
           {
            "marker": {
             "line": {
              "color": "#283442"
             }
            },
            "type": "scatter"
           }
          ],
          "scatter3d": [
           {
            "line": {
             "colorbar": {
              "outlinewidth": 0,
              "ticks": ""
             }
            },
            "marker": {
             "colorbar": {
              "outlinewidth": 0,
              "ticks": ""
             }
            },
            "type": "scatter3d"
           }
          ],
          "scattercarpet": [
           {
            "marker": {
             "colorbar": {
              "outlinewidth": 0,
              "ticks": ""
             }
            },
            "type": "scattercarpet"
           }
          ],
          "scattergeo": [
           {
            "marker": {
             "colorbar": {
              "outlinewidth": 0,
              "ticks": ""
             }
            },
            "type": "scattergeo"
           }
          ],
          "scattergl": [
           {
            "marker": {
             "line": {
              "color": "#283442"
             }
            },
            "type": "scattergl"
           }
          ],
          "scattermap": [
           {
            "marker": {
             "colorbar": {
              "outlinewidth": 0,
              "ticks": ""
             }
            },
            "type": "scattermap"
           }
          ],
          "scattermapbox": [
           {
            "marker": {
             "colorbar": {
              "outlinewidth": 0,
              "ticks": ""
             }
            },
            "type": "scattermapbox"
           }
          ],
          "scatterpolar": [
           {
            "marker": {
             "colorbar": {
              "outlinewidth": 0,
              "ticks": ""
             }
            },
            "type": "scatterpolar"
           }
          ],
          "scatterpolargl": [
           {
            "marker": {
             "colorbar": {
              "outlinewidth": 0,
              "ticks": ""
             }
            },
            "type": "scatterpolargl"
           }
          ],
          "scatterternary": [
           {
            "marker": {
             "colorbar": {
              "outlinewidth": 0,
              "ticks": ""
             }
            },
            "type": "scatterternary"
           }
          ],
          "surface": [
           {
            "colorbar": {
             "outlinewidth": 0,
             "ticks": ""
            },
            "colorscale": [
             [
              0,
              "#0d0887"
             ],
             [
              0.1111111111111111,
              "#46039f"
             ],
             [
              0.2222222222222222,
              "#7201a8"
             ],
             [
              0.3333333333333333,
              "#9c179e"
             ],
             [
              0.4444444444444444,
              "#bd3786"
             ],
             [
              0.5555555555555556,
              "#d8576b"
             ],
             [
              0.6666666666666666,
              "#ed7953"
             ],
             [
              0.7777777777777778,
              "#fb9f3a"
             ],
             [
              0.8888888888888888,
              "#fdca26"
             ],
             [
              1,
              "#f0f921"
             ]
            ],
            "type": "surface"
           }
          ],
          "table": [
           {
            "cells": {
             "fill": {
              "color": "#506784"
             },
             "line": {
              "color": "rgb(17,17,17)"
             }
            },
            "header": {
             "fill": {
              "color": "#2a3f5f"
             },
             "line": {
              "color": "rgb(17,17,17)"
             }
            },
            "type": "table"
           }
          ]
         },
         "layout": {
          "annotationdefaults": {
           "arrowcolor": "#f2f5fa",
           "arrowhead": 0,
           "arrowwidth": 1
          },
          "autotypenumbers": "strict",
          "coloraxis": {
           "colorbar": {
            "outlinewidth": 0,
            "ticks": ""
           }
          },
          "colorscale": {
           "diverging": [
            [
             0,
             "#8e0152"
            ],
            [
             0.1,
             "#c51b7d"
            ],
            [
             0.2,
             "#de77ae"
            ],
            [
             0.3,
             "#f1b6da"
            ],
            [
             0.4,
             "#fde0ef"
            ],
            [
             0.5,
             "#f7f7f7"
            ],
            [
             0.6,
             "#e6f5d0"
            ],
            [
             0.7,
             "#b8e186"
            ],
            [
             0.8,
             "#7fbc41"
            ],
            [
             0.9,
             "#4d9221"
            ],
            [
             1,
             "#276419"
            ]
           ],
           "sequential": [
            [
             0,
             "#0d0887"
            ],
            [
             0.1111111111111111,
             "#46039f"
            ],
            [
             0.2222222222222222,
             "#7201a8"
            ],
            [
             0.3333333333333333,
             "#9c179e"
            ],
            [
             0.4444444444444444,
             "#bd3786"
            ],
            [
             0.5555555555555556,
             "#d8576b"
            ],
            [
             0.6666666666666666,
             "#ed7953"
            ],
            [
             0.7777777777777778,
             "#fb9f3a"
            ],
            [
             0.8888888888888888,
             "#fdca26"
            ],
            [
             1,
             "#f0f921"
            ]
           ],
           "sequentialminus": [
            [
             0,
             "#0d0887"
            ],
            [
             0.1111111111111111,
             "#46039f"
            ],
            [
             0.2222222222222222,
             "#7201a8"
            ],
            [
             0.3333333333333333,
             "#9c179e"
            ],
            [
             0.4444444444444444,
             "#bd3786"
            ],
            [
             0.5555555555555556,
             "#d8576b"
            ],
            [
             0.6666666666666666,
             "#ed7953"
            ],
            [
             0.7777777777777778,
             "#fb9f3a"
            ],
            [
             0.8888888888888888,
             "#fdca26"
            ],
            [
             1,
             "#f0f921"
            ]
           ]
          },
          "colorway": [
           "#636efa",
           "#EF553B",
           "#00cc96",
           "#ab63fa",
           "#FFA15A",
           "#19d3f3",
           "#FF6692",
           "#B6E880",
           "#FF97FF",
           "#FECB52"
          ],
          "font": {
           "color": "#f2f5fa"
          },
          "geo": {
           "bgcolor": "rgb(17,17,17)",
           "lakecolor": "rgb(17,17,17)",
           "landcolor": "rgb(17,17,17)",
           "showlakes": true,
           "showland": true,
           "subunitcolor": "#506784"
          },
          "hoverlabel": {
           "align": "left"
          },
          "hovermode": "closest",
          "mapbox": {
           "style": "dark"
          },
          "paper_bgcolor": "rgb(17,17,17)",
          "plot_bgcolor": "rgb(17,17,17)",
          "polar": {
           "angularaxis": {
            "gridcolor": "#506784",
            "linecolor": "#506784",
            "ticks": ""
           },
           "bgcolor": "rgb(17,17,17)",
           "radialaxis": {
            "gridcolor": "#506784",
            "linecolor": "#506784",
            "ticks": ""
           }
          },
          "scene": {
           "xaxis": {
            "backgroundcolor": "rgb(17,17,17)",
            "gridcolor": "#506784",
            "gridwidth": 2,
            "linecolor": "#506784",
            "showbackground": true,
            "ticks": "",
            "zerolinecolor": "#C8D4E3"
           },
           "yaxis": {
            "backgroundcolor": "rgb(17,17,17)",
            "gridcolor": "#506784",
            "gridwidth": 2,
            "linecolor": "#506784",
            "showbackground": true,
            "ticks": "",
            "zerolinecolor": "#C8D4E3"
           },
           "zaxis": {
            "backgroundcolor": "rgb(17,17,17)",
            "gridcolor": "#506784",
            "gridwidth": 2,
            "linecolor": "#506784",
            "showbackground": true,
            "ticks": "",
            "zerolinecolor": "#C8D4E3"
           }
          },
          "shapedefaults": {
           "line": {
            "color": "#f2f5fa"
           }
          },
          "sliderdefaults": {
           "bgcolor": "#C8D4E3",
           "bordercolor": "rgb(17,17,17)",
           "borderwidth": 1,
           "tickwidth": 0
          },
          "ternary": {
           "aaxis": {
            "gridcolor": "#506784",
            "linecolor": "#506784",
            "ticks": ""
           },
           "baxis": {
            "gridcolor": "#506784",
            "linecolor": "#506784",
            "ticks": ""
           },
           "bgcolor": "rgb(17,17,17)",
           "caxis": {
            "gridcolor": "#506784",
            "linecolor": "#506784",
            "ticks": ""
           }
          },
          "title": {
           "x": 0.05
          },
          "updatemenudefaults": {
           "bgcolor": "#506784",
           "borderwidth": 0
          },
          "xaxis": {
           "automargin": true,
           "gridcolor": "#283442",
           "linecolor": "#506784",
           "ticks": "",
           "title": {
            "standoff": 15
           },
           "zerolinecolor": "#283442",
           "zerolinewidth": 2
          },
          "yaxis": {
           "automargin": true,
           "gridcolor": "#283442",
           "linecolor": "#506784",
           "ticks": "",
           "title": {
            "standoff": 15
           },
           "zerolinecolor": "#283442",
           "zerolinewidth": 2
          }
         }
        },
        "xaxis": {
         "anchor": "y",
         "domain": [
          0,
          1
         ],
         "title": {
          "text": "x"
         }
        },
        "yaxis": {
         "anchor": "x",
         "domain": [
          0,
          1
         ],
         "title": {
          "text": "y"
         }
        }
       }
      }
     },
     "metadata": {},
     "output_type": "display_data"
    }
   ],
   "source": [
    "px.scatter(x=xs.squeeze().numpy(), y=ys.squeeze().numpy(), template='plotly_dark').update_traces(marker=dict(size=5)).show()"
   ]
  },
  {
   "cell_type": "code",
   "execution_count": 16,
   "id": "ab9bbf59",
   "metadata": {},
   "outputs": [],
   "source": [
    "def mse_loss(y_pred, y_true):\n",
    "    return ((y_pred - y_true) ** 2).mean()"
   ]
  },
  {
   "cell_type": "code",
   "execution_count": null,
   "id": "a431e0ae",
   "metadata": {},
   "outputs": [
    {
     "data": {
      "text/plain": [
       "0.39855578541755676"
      ]
     },
     "execution_count": 18,
     "metadata": {},
     "output_type": "execute_result"
    }
   ],
   "source": [
    "# preds = lin(xs)\n",
    "# mse_loss(preds, ys).item()"
   ]
  },
  {
   "cell_type": "code",
   "execution_count": 36,
   "id": "008d9ffd",
   "metadata": {},
   "outputs": [
    {
     "data": {
      "text/plain": [
       "(None, None, None, None, None)"
      ]
     },
     "execution_count": 36,
     "metadata": {},
     "output_type": "execute_result"
    }
   ],
   "source": [
    "lin.weight.grad, lin.bias.grad, lin.weight.grad, lin.weight.requires_grad, lin.bias.requires_grad"
   ]
  },
  {
   "cell_type": "code",
   "execution_count": 68,
   "id": "3dbfbb4d",
   "metadata": {},
   "outputs": [
    {
     "name": "stdout",
     "output_type": "stream",
     "text": [
      "Step 1: loss = 0.0085, weight = 0.8318, bias = -1.2152\n",
      "Step 10: loss = 0.0085, weight = 0.8318, bias = -1.2152\n",
      "Step 20: loss = 0.0085, weight = 0.8318, bias = -1.2152\n",
      "Step 30: loss = 0.0085, weight = 0.8318, bias = -1.2152\n",
      "Step 40: loss = 0.0085, weight = 0.8318, bias = -1.2152\n",
      "Step 50: loss = 0.0085, weight = 0.8318, bias = -1.2152\n",
      "Step 60: loss = 0.0085, weight = 0.8318, bias = -1.2152\n",
      "Step 70: loss = 0.0085, weight = 0.8318, bias = -1.2152\n",
      "Step 80: loss = 0.0085, weight = 0.8318, bias = -1.2152\n",
      "Step 90: loss = 0.0085, weight = 0.8318, bias = -1.2152\n",
      "Step 100: loss = 0.0085, weight = 0.8318, bias = -1.2152\n",
      "Step 110: loss = 0.0085, weight = 0.8318, bias = -1.2152\n",
      "Step 120: loss = 0.0085, weight = 0.8318, bias = -1.2152\n",
      "Step 130: loss = 0.0085, weight = 0.8318, bias = -1.2152\n",
      "Step 140: loss = 0.0085, weight = 0.8318, bias = -1.2152\n",
      "Step 150: loss = 0.0085, weight = 0.8318, bias = -1.2152\n",
      "Step 160: loss = 0.0085, weight = 0.8318, bias = -1.2152\n",
      "Step 170: loss = 0.0085, weight = 0.8318, bias = -1.2152\n",
      "Step 180: loss = 0.0085, weight = 0.8318, bias = -1.2152\n",
      "Step 190: loss = 0.0085, weight = 0.8318, bias = -1.2152\n",
      "Step 200: loss = 0.0085, weight = 0.8318, bias = -1.2152\n"
     ]
    }
   ],
   "source": [
    "n_steps = 200\n",
    "\n",
    "opt = nn.optim.SGD(nn.state.get_parameters(lin), lr=0.1)\n",
    "\n",
    "lossi = []\n",
    "for i in range (1, n_steps + 1):\n",
    "    # forward pass\n",
    "    preds = lin(xs)\n",
    "    loss = mse_loss(preds, ys)\n",
    "\n",
    "    # backpropagation\n",
    "    Tensor.training = True\n",
    "    opt.zero_grad()\n",
    "    loss.backward()\n",
    "    opt.step()\n",
    "    lossi.append(loss.item())\n",
    "    \n",
    "    if i == 1 or i % 10 == 0:\n",
    "        weight = lin.weight.item()\n",
    "        bias = lin.bias.item()\n",
    "        print(f\"Step {i}: loss = {loss.item():.4f}, weight = {weight:.4f}, bias = {bias:.4f}\")"
   ]
  },
  {
   "cell_type": "code",
   "execution_count": 67,
   "id": "5405cd85",
   "metadata": {},
   "outputs": [
    {
     "name": "stdout",
     "output_type": "stream",
     "text": [
      "Step 0: loss = 0.0085, weight = 0.8314, bias = -1.2150\n",
      "Step 1: loss = 0.0085, weight = 0.8314, bias = -1.2150\n",
      "Step 10: loss = 0.0085, weight = 0.8315, bias = -1.2150\n",
      "Step 20: loss = 0.0085, weight = 0.8315, bias = -1.2151\n",
      "Step 30: loss = 0.0085, weight = 0.8315, bias = -1.2151\n",
      "Step 40: loss = 0.0085, weight = 0.8316, bias = -1.2151\n",
      "Step 50: loss = 0.0085, weight = 0.8316, bias = -1.2151\n",
      "Step 60: loss = 0.0085, weight = 0.8316, bias = -1.2151\n",
      "Step 70: loss = 0.0085, weight = 0.8317, bias = -1.2151\n",
      "Step 80: loss = 0.0085, weight = 0.8317, bias = -1.2151\n",
      "Step 90: loss = 0.0085, weight = 0.8317, bias = -1.2151\n",
      "Step 100: loss = 0.0085, weight = 0.8317, bias = -1.2152\n",
      "Step 110: loss = 0.0085, weight = 0.8317, bias = -1.2152\n",
      "Step 120: loss = 0.0085, weight = 0.8317, bias = -1.2152\n",
      "Step 130: loss = 0.0085, weight = 0.8317, bias = -1.2152\n",
      "Step 140: loss = 0.0085, weight = 0.8317, bias = -1.2152\n",
      "Step 150: loss = 0.0085, weight = 0.8317, bias = -1.2152\n",
      "Step 160: loss = 0.0085, weight = 0.8318, bias = -1.2152\n",
      "Step 170: loss = 0.0085, weight = 0.8318, bias = -1.2152\n",
      "Step 180: loss = 0.0085, weight = 0.8318, bias = -1.2152\n",
      "Step 190: loss = 0.0085, weight = 0.8318, bias = -1.2152\n",
      "Step 200: loss = 0.0085, weight = 0.8318, bias = -1.2152\n",
      "Step 210: loss = 0.0085, weight = 0.8318, bias = -1.2152\n",
      "Step 220: loss = 0.0085, weight = 0.8318, bias = -1.2152\n",
      "Step 230: loss = 0.0085, weight = 0.8318, bias = -1.2152\n",
      "Step 240: loss = 0.0085, weight = 0.8318, bias = -1.2152\n",
      "Step 250: loss = 0.0085, weight = 0.8318, bias = -1.2152\n",
      "Step 260: loss = 0.0085, weight = 0.8318, bias = -1.2152\n",
      "Step 270: loss = 0.0085, weight = 0.8318, bias = -1.2152\n",
      "Step 280: loss = 0.0085, weight = 0.8318, bias = -1.2152\n",
      "Step 290: loss = 0.0085, weight = 0.8318, bias = -1.2152\n",
      "Step 300: loss = 0.0085, weight = 0.8318, bias = -1.2152\n",
      "Step 310: loss = 0.0085, weight = 0.8318, bias = -1.2152\n",
      "Step 320: loss = 0.0085, weight = 0.8318, bias = -1.2152\n",
      "Step 330: loss = 0.0085, weight = 0.8318, bias = -1.2152\n",
      "Step 340: loss = 0.0085, weight = 0.8318, bias = -1.2152\n",
      "Step 350: loss = 0.0085, weight = 0.8318, bias = -1.2152\n",
      "Step 360: loss = 0.0085, weight = 0.8318, bias = -1.2152\n",
      "Step 370: loss = 0.0085, weight = 0.8318, bias = -1.2152\n",
      "Step 380: loss = 0.0085, weight = 0.8318, bias = -1.2152\n",
      "Step 390: loss = 0.0085, weight = 0.8318, bias = -1.2152\n",
      "Step 400: loss = 0.0085, weight = 0.8318, bias = -1.2152\n",
      "Step 410: loss = 0.0085, weight = 0.8318, bias = -1.2152\n",
      "Step 420: loss = 0.0085, weight = 0.8318, bias = -1.2152\n",
      "Step 430: loss = 0.0085, weight = 0.8318, bias = -1.2152\n",
      "Step 440: loss = 0.0085, weight = 0.8318, bias = -1.2152\n",
      "Step 450: loss = 0.0085, weight = 0.8318, bias = -1.2152\n",
      "Step 460: loss = 0.0085, weight = 0.8318, bias = -1.2152\n",
      "Step 470: loss = 0.0085, weight = 0.8318, bias = -1.2152\n",
      "Step 480: loss = 0.0085, weight = 0.8318, bias = -1.2152\n",
      "Step 490: loss = 0.0085, weight = 0.8318, bias = -1.2152\n",
      "Step 500: loss = 0.0085, weight = 0.8318, bias = -1.2152\n",
      "Step 510: loss = 0.0085, weight = 0.8318, bias = -1.2152\n",
      "Step 520: loss = 0.0085, weight = 0.8318, bias = -1.2152\n",
      "Step 530: loss = 0.0085, weight = 0.8318, bias = -1.2152\n",
      "Step 540: loss = 0.0085, weight = 0.8318, bias = -1.2152\n",
      "Step 550: loss = 0.0085, weight = 0.8318, bias = -1.2152\n",
      "Step 560: loss = 0.0085, weight = 0.8318, bias = -1.2152\n",
      "Step 570: loss = 0.0085, weight = 0.8318, bias = -1.2152\n",
      "Step 580: loss = 0.0085, weight = 0.8318, bias = -1.2152\n",
      "Step 590: loss = 0.0085, weight = 0.8318, bias = -1.2152\n"
     ]
    }
   ],
   "source": [
    "n_steps = 600\n",
    "\n",
    "opt = nn.optim.SGD(nn.state.get_parameters(lin), lr=0.1)\n",
    "\n",
    "with Tensor.train():\n",
    "    for step in range(n_steps):\n",
    "        # forward pass\n",
    "        preds = lin(xs)\n",
    "        # print(type(preds), type(ys))\n",
    "        # print(preds.shape, ys.shape)\n",
    "        loss = mse_loss(preds, ys)\n",
    "        # print(type(loss), loss.shape)\n",
    "        # print(loss.item())\n",
    "\n",
    "        # backpropagation\n",
    "        opt.zero_grad()\n",
    "        loss.backward()\n",
    "        opt.step()\n",
    "        lossi.append(loss.item())\n",
    "        \n",
    "        if step == 1 or step % 10 == 0:\n",
    "            weight = lin.weight.item()\n",
    "            bias = lin.bias.item()\n",
    "            print(f\"Step {step}: loss = {loss.item():.4f}, weight = {weight:.4f}, bias = {bias:.4f}\")"
   ]
  },
  {
   "cell_type": "code",
   "execution_count": 66,
   "id": "e9177026",
   "metadata": {},
   "outputs": [
    {
     "name": "stdout",
     "output_type": "stream",
     "text": [
      "GPU\n"
     ]
    }
   ],
   "source": [
    "from tinygrad import Device\n",
    "print(Device.DEFAULT)"
   ]
  }
 ],
 "metadata": {
  "kernelspec": {
   "display_name": ".venv",
   "language": "python",
   "name": "python3"
  },
  "language_info": {
   "codemirror_mode": {
    "name": "ipython",
    "version": 3
   },
   "file_extension": ".py",
   "mimetype": "text/x-python",
   "name": "python",
   "nbconvert_exporter": "python",
   "pygments_lexer": "ipython3",
   "version": "3.12.9"
  }
 },
 "nbformat": 4,
 "nbformat_minor": 5
}
